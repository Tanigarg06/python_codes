{
 "cells": [
  {
   "cell_type": "code",
   "execution_count": 4,
   "id": "ee930601-b0ef-4d3a-a9d9-f721e9a08bdf",
   "metadata": {},
   "outputs": [],
   "source": [
    "# STUDENT REPORT CARD GENERATOR WITH SUBJECT INSIGHTS"
   ]
  },
  {
   "cell_type": "code",
   "execution_count": null,
   "id": "683f05a1-f8a3-49b7-bff3-a06f14e756f5",
   "metadata": {},
   "outputs": [],
   "source": [
    "name=input(\"Enter student name:\")\n",
    "print(\"ENTER MARKS\")\n",
    "eng=int(input(\"ENGLISH->\"))\n",
    "hin=int(input(\"HINDI->\"))\n",
    "math=int(input(\"MATHS->\"))\n",
    "sci=int(input(\"SCIENCE->\"))\n",
    "sst=int(input(\"SOCIAL SCIENCE->\"))\n",
    "dit={name:{\"ENGLISH\":eng,\"HINDI\":hin,\"MATHS\":math,\"SCIENCE\":sci,\"SOCIAL SCIENCE\":sst}}\n",
    "lst=[name[\"English:%s\",\"Hindi:%s\",\"Maths:%s\",\"Science:%s\",\"Social science:%s\"%eng %hin %math %sci %sst]\n",
    "avg=(eng+hin+math+sci+sst)/5\n",
    "if avg>=90:\n",
    "    grad=\"A\"\n",
    "elif avg>=80:\n",
    "    grad=\"B\"\n",
    "elif avg>=70:\n",
    "    grad=\"C\"\n",
    "elif avg>=60:\n",
    "    grad=\"D\"\n",
    "else:\n",
    "    grad=\"E\"\n",
    "\n"
   ]
  }
 ],
 "metadata": {
  "kernelspec": {
   "display_name": "Python 3 (ipykernel)",
   "language": "python",
   "name": "python3"
  },
  "language_info": {
   "codemirror_mode": {
    "name": "ipython",
    "version": 3
   },
   "file_extension": ".py",
   "mimetype": "text/x-python",
   "name": "python",
   "nbconvert_exporter": "python",
   "pygments_lexer": "ipython3",
   "version": "3.13.5"
  }
 },
 "nbformat": 4,
 "nbformat_minor": 5
}
