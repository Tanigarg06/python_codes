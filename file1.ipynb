{
 "cells": [
  {
   "cell_type": "markdown",
   "id": "f14d56c0-de9a-4d86-9e2f-5216a9a87492",
   "metadata": {},
   "source": [
    "# Python\n",
    "\n",
    "# Introduction"
   ]
  },
  {
   "cell_type": "code",
   "execution_count": 1,
   "id": "9b457008-229e-416d-b32f-36d16be0752d",
   "metadata": {},
   "outputs": [
    {
     "name": "stdout",
     "output_type": "stream",
     "text": [
      "hello\n"
     ]
    }
   ],
   "source": [
    "print(\"hello\")"
   ]
  },
  {
   "cell_type": "code",
   "execution_count": 3,
   "id": "e5ff737d-89f0-4841-bab0-1b8ec92d81ce",
   "metadata": {},
   "outputs": [],
   "source": [
    "a=True"
   ]
  },
  {
   "cell_type": "code",
   "execution_count": 4,
   "id": "45bb3c64-109e-4169-a65c-4a39cc3a8cf0",
   "metadata": {},
   "outputs": [
    {
     "data": {
      "text/plain": [
       "bool"
      ]
     },
     "execution_count": 4,
     "metadata": {},
     "output_type": "execute_result"
    }
   ],
   "source": [
    "type(a)"
   ]
  },
  {
   "cell_type": "markdown",
   "id": "c912bba7-681e-4d9d-8a07-c4da2ea8db10",
   "metadata": {},
   "source": [
    "number=\"8\""
   ]
  },
  {
   "cell_type": "code",
   "execution_count": 4,
   "id": "76831d98-3cb4-4d71-a70b-67d65d1063e7",
   "metadata": {},
   "outputs": [],
   "source": [
    "#PROGRAM THAT TAKES USER INPUT FOR NAME AND AGE,THEN PRINTS A GREETING"
   ]
  },
  {
   "cell_type": "code",
   "execution_count": 7,
   "id": "95218ba0-1e0d-4d98-8649-18c13f0c3a8e",
   "metadata": {},
   "outputs": [
    {
     "name": "stdin",
     "output_type": "stream",
     "text": [
      "Enter your name: TANISHA\n",
      "Enter your age: 19\n"
     ]
    },
    {
     "name": "stdout",
     "output_type": "stream",
     "text": [
      "HELLO, TANISHA your entered age is 19 \n",
      "WISH YOU A GOOD DAY!\n"
     ]
    }
   ],
   "source": [
    "n=input(\"Enter your name:\")\n",
    "a=input(\"Enter your age:\")\n",
    "print(\"HELLO,\",n,\"your entered age is\",a,\"\\nWISH YOU A GOOD DAY!\")\n"
   ]
  },
  {
   "cell_type": "code",
   "execution_count": 9,
   "id": "11af023f-a59d-44b9-9d1f-d4a879efd738",
   "metadata": {},
   "outputs": [
    {
     "name": "stdin",
     "output_type": "stream",
     "text": [
      "Enter number: 4\n"
     ]
    },
    {
     "name": "stdout",
     "output_type": "stream",
     "text": [
      "NUMBER IS POSITIVE\n"
     ]
    }
   ],
   "source": [
    "#TO CHECK IF NUM IS +,-,0\n",
    "n=int(input(\"Enter number:\"))\n",
    "if n>0:\n",
    "    print(\"NUMBER IS POSITIVE\")\n",
    "elif n<0:\n",
    "    print(\"NUMBER ID NEGATIVE\")\n",
    "else:\n",
    "    print(\"NUMBER IS ZERO\")"
   ]
  },
  {
   "cell_type": "code",
   "execution_count": 13,
   "id": "b5eba904-ff52-44d4-a52a-7ef619b8ac29",
   "metadata": {},
   "outputs": [
    {
     "name": "stdin",
     "output_type": "stream",
     "text": [
      "Enter number 1: 4\n",
      "Enter number 2: 2\n"
     ]
    },
    {
     "name": "stdout",
     "output_type": "stream",
     "text": [
      "ADDITION =  6 \n",
      "SUBTRACTION =  2 \n",
      "MULTIPLICATION =  8 \n",
      "DIVISION =  2.0 \n",
      "FLOOR DIVISION =  2 \n",
      "MODULUS =  0 \n",
      "EXPONENTIATION =  16\n"
     ]
    }
   ],
   "source": [
    "#TO PERFORM ARITHEMETIC OPERATIONS\n",
    "a=int(input(\"Enter number 1:\"))\n",
    "b=int(input(\"Enter number 2:\"))\n",
    "if a>b:\n",
    "    c=a\n",
    "    d=b\n",
    "else:\n",
    "    c=b\n",
    "    d=a\n",
    "print(\"ADDITION = \",a+b,\"\\nSUBTRACTION = \",c-d,\"\\nMULTIPLICATION = \",a*b,\"\\nDIVISION = \",c/d,\"\\nFLOOR DIVISION = \",c//d,\"\\nMODULUS = \",c%d,\"\\nEXPONENTIATION = \",c**d)"
   ]
  },
  {
   "cell_type": "code",
   "execution_count": 14,
   "id": "28416c72-8b24-4452-bfb8-3226c72b63df",
   "metadata": {},
   "outputs": [
    {
     "name": "stdout",
     "output_type": "stream",
     "text": [
      "BEFORE SWAPPING A= 10  and B= 20\n",
      "AFTER SWAPPING A= 20  and B= 10\n"
     ]
    }
   ],
   "source": [
    "#TO SWAP VALUES\n",
    "a=10\n",
    "b=20\n",
    "print(\"BEFORE SWAPPING A=\",a,\" and B=\",b)\n",
    "a,b=b,a\n",
    "print(\"AFTER SWAPPING A=\",a,\" and B=\",b)"
   ]
  }
 ],
 "metadata": {
  "kernelspec": {
   "display_name": "Python 3 (ipykernel)",
   "language": "python",
   "name": "python3"
  },
  "language_info": {
   "codemirror_mode": {
    "name": "ipython",
    "version": 3
   },
   "file_extension": ".py",
   "mimetype": "text/x-python",
   "name": "python",
   "nbconvert_exporter": "python",
   "pygments_lexer": "ipython3",
   "version": "3.13.5"
  }
 },
 "nbformat": 4,
 "nbformat_minor": 5
}
